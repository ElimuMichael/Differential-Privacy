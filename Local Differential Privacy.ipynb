{
 "cells": [
  {
   "cell_type": "code",
   "execution_count": 33,
   "metadata": {},
   "outputs": [
    {
     "data": {
      "text/plain": [
       "<torch._C.Generator at 0x22199e67c90>"
      ]
     },
     "execution_count": 33,
     "metadata": {},
     "output_type": "execute_result"
    }
   ],
   "source": [
    "# Import modules\n",
    "import torch\n",
    "torch.manual_seed(7)"
   ]
  },
  {
   "cell_type": "code",
   "execution_count": 34,
   "metadata": {},
   "outputs": [],
   "source": [
    "# Create a parallel db generator which removes one record from the original db and keeps the rest of the records\n",
    "def par_db_generator(db, idx):\n",
    "    return torch.cat((db[0:idx], db[idx+1:]))"
   ]
  },
  {
   "cell_type": "code",
   "execution_count": 35,
   "metadata": {},
   "outputs": [],
   "source": [
    "def coinflip():\n",
    "    answer = 0\n",
    "    if torch.rand(1)>0.5:\n",
    "        answer=1\n",
    "        return answer\n",
    "    else:\n",
    "        if torch.rand(1)>0.5:\n",
    "            answer=1\n",
    "            return answer\n",
    "        return answer\n",
    "            "
   ]
  },
  {
   "cell_type": "code",
   "execution_count": 36,
   "metadata": {},
   "outputs": [],
   "source": [
    "# Backle up the parallel databases together\n",
    "# it depends entirely on the length of the first db\n",
    "def par_dbs(db):\n",
    "    \"\"\"This creates an array with the datase columns = len(db-1)\n",
    "    Since we are removing one record at a time and returning the remaining values\n",
    "    \"\"\"\n",
    "    db_all = []\n",
    "    par_db = torch.ones(db.shape).type(torch.int)\n",
    "    for i in range(len(db)):\n",
    "        decision = coinflip()\n",
    "        if decision:\n",
    "            par_db[i] = db[i]\n",
    "        else:\n",
    "            par_db[i] = 1 if db[i]==0 else 0\n",
    "    \n",
    "    db_all.append(par_db)\n",
    "        \n",
    "    return db_all"
   ]
  },
  {
   "cell_type": "code",
   "execution_count": 37,
   "metadata": {},
   "outputs": [],
   "source": [
    "# Create a function to generate the required data based on a given sample of users or records\n",
    "def generate_db(rec_no):\n",
    "    \"\"\"This function generates the db that is then usd to generate the parallel dbs\"\"\"\n",
    "    db = torch.rand(rec_no)>0.5\n",
    "    # print('Original DB\\n{}'.format(db))\n",
    "    \n",
    "    #Generate the entire parallel db\n",
    "    # My Solution\n",
    "    pdbs = par_dbs(db)\n",
    "    \n",
    "    \n",
    "    # Lecture Solution\n",
    "#     first_coin_flip = (torch.rand(len(db))>0.5).float()\n",
    "#     second_coin_flip = (torch.rand(len(db))>0.5).float()\n",
    "#     pdbs = db.float()*first_coin_flip + (1-first_coin_flip)*second_coin_flip\n",
    "    \n",
    "    return db, pdbs    "
   ]
  },
  {
   "cell_type": "code",
   "execution_count": 38,
   "metadata": {},
   "outputs": [],
   "source": [
    "def db_query(db):\n",
    "    return db.float().mean()"
   ]
  },
  {
   "cell_type": "code",
   "execution_count": 39,
   "metadata": {},
   "outputs": [],
   "source": [
    "# Query all the other paraleel DBs and compare with the full database query\n",
    "def sensitivity(query, num_entries=1000):\n",
    "    \"\"\"\n",
    "    This function takes the query function as an argument and the number of entries\n",
    "    It initializes the databse and the parallel databases and then performs query for both\n",
    "    It then uses the qery result to eveluate the similarity\n",
    "    \"\"\"\n",
    "    \n",
    "    # Generate the data\n",
    "    torch.manual_seed(500)\n",
    "    db, pdbs = generate_db(num_entries)\n",
    "    \n",
    "    ful_db_query = query(db)\n",
    "    print(num_entries,'\\n')\n",
    "    print('Without Noise: ', ful_db_query)\n",
    "    # print(db, '\\n', pdbs)\n",
    "    max_dist = 0\n",
    "    for pdb in pdbs:\n",
    "        pdb_query = query(pdb)*2 - 0.5\n",
    "        print('With Noise: ', pdb_query)\n",
    "        \n",
    "        # Creating an L1 Sensitivity\n",
    "        \n",
    "        db_distance = torch.abs(pdb_query - ful_db_query)\n",
    "\n",
    "        if db_distance > max_dist:\n",
    "            max_dist = db_distance\n",
    "\n",
    "    return max_dist"
   ]
  },
  {
   "cell_type": "code",
   "execution_count": 40,
   "metadata": {
    "scrolled": true
   },
   "outputs": [
    {
     "name": "stdout",
     "output_type": "stream",
     "text": [
      "10 \n",
      "\n",
      "Without Noise:  tensor(0.7000)\n",
      "With Noise:  tensor(0.7000)\n",
      "Sensitivity:  tensor(5.9605e-08) \n",
      "\n",
      "\n",
      "100 \n",
      "\n",
      "Without Noise:  tensor(0.5900)\n",
      "With Noise:  tensor(0.4800)\n",
      "Sensitivity:  tensor(0.1100) \n",
      "\n",
      "\n",
      "1000 \n",
      "\n",
      "Without Noise:  tensor(0.5210)\n",
      "With Noise:  tensor(0.5400)\n",
      "Sensitivity:  tensor(0.0190) \n",
      "\n",
      "\n",
      "10000 \n",
      "\n",
      "Without Noise:  tensor(0.5070)\n",
      "With Noise:  tensor(0.4998)\n",
      "Sensitivity:  tensor(0.0072) \n",
      "\n",
      "\n"
     ]
    }
   ],
   "source": [
    "\n",
    "for i in [10, 100, 1000, 10000]:\n",
    "    print(\"Sensitivity: \", sensitivity(db_query, i), \"\\n\\n\")"
   ]
  },
  {
   "cell_type": "code",
   "execution_count": null,
   "metadata": {},
   "outputs": [],
   "source": []
  }
 ],
 "metadata": {
  "kernelspec": {
   "display_name": "Python 3",
   "language": "python",
   "name": "python3"
  },
  "language_info": {
   "codemirror_mode": {
    "name": "ipython",
    "version": 3
   },
   "file_extension": ".py",
   "mimetype": "text/x-python",
   "name": "python",
   "nbconvert_exporter": "python",
   "pygments_lexer": "ipython3",
   "version": "3.6.4"
  }
 },
 "nbformat": 4,
 "nbformat_minor": 2
}
