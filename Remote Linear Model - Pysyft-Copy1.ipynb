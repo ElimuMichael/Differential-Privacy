{
 "cells": [
  {
   "cell_type": "code",
   "execution_count": 1,
   "metadata": {},
   "outputs": [],
   "source": [
    "import syft as sy\n",
    "import torch\n",
    "from torch import nn, optim"
   ]
  },
  {
   "cell_type": "code",
   "execution_count": 2,
   "metadata": {},
   "outputs": [],
   "source": [
    "hook = sy.TorchHook(torch)"
   ]
  },
  {
   "cell_type": "code",
   "execution_count": 3,
   "metadata": {},
   "outputs": [],
   "source": [
    "bob = sy.VirtualWorker(hook, id='bob')\n",
    "alice = sy.VirtualWorker(hook, id='alice')"
   ]
  },
  {
   "cell_type": "code",
   "execution_count": 4,
   "metadata": {},
   "outputs": [],
   "source": [
    "raw_data = torch.tensor([[0., 0], [0, 1], [1, 0], [1, 1]], requires_grad=True)\n",
    "target = torch.tensor([[0.],[1], [1], [1]], requires_grad=True)"
   ]
  },
  {
   "cell_type": "code",
   "execution_count": 5,
   "metadata": {},
   "outputs": [],
   "source": [
    "data_bob = raw_data[0:2].send(bob)\n",
    "target_bob = target[0:2].send(bob)"
   ]
  },
  {
   "cell_type": "code",
   "execution_count": 6,
   "metadata": {},
   "outputs": [],
   "source": [
    "data_alice = raw_data[2:].send(alice)\n",
    "target_alice = target[2:].send(alice)"
   ]
  },
  {
   "cell_type": "code",
   "execution_count": 7,
   "metadata": {},
   "outputs": [
    {
     "data": {
      "text/plain": [
       "{7080003931: tensor([[0., 0.],\n",
       "         [0., 1.]], requires_grad=True), 98615546761: tensor([[0.],\n",
       "         [1.]], requires_grad=True)}"
      ]
     },
     "execution_count": 7,
     "metadata": {},
     "output_type": "execute_result"
    }
   ],
   "source": [
    "bob._objects"
   ]
  },
  {
   "cell_type": "code",
   "execution_count": 8,
   "metadata": {},
   "outputs": [
    {
     "data": {
      "text/plain": [
       "{15258922227: tensor([[1., 0.],\n",
       "         [1., 1.]], requires_grad=True), 34162026590: tensor([[1.],\n",
       "         [1.]], requires_grad=True)}"
      ]
     },
     "execution_count": 8,
     "metadata": {},
     "output_type": "execute_result"
    }
   ],
   "source": [
    "alice._objects"
   ]
  },
  {
   "cell_type": "code",
   "execution_count": 9,
   "metadata": {},
   "outputs": [],
   "source": [
    "dataset = [(data_bob, target_bob), (data_alice, target_alice)]"
   ]
  },
  {
   "cell_type": "code",
   "execution_count": 10,
   "metadata": {},
   "outputs": [],
   "source": []
  },
  {
   "cell_type": "code",
   "execution_count": 11,
   "metadata": {},
   "outputs": [],
   "source": []
  },
  {
   "cell_type": "code",
   "execution_count": 14,
   "metadata": {},
   "outputs": [],
   "source": [
    "def train(iterations=20):\n",
    "    \n",
    "    model = nn.Linear(2, 1)\n",
    "    optimizer = optim.SGD(params=model.parameters(), lr=0.1)\n",
    "    \n",
    "    for i in range(iterations):\n",
    "\n",
    "        for _data, _target in dataset:\n",
    "\n",
    "            # Move the model to the various locations\n",
    "            model = model.send(_data.location)\n",
    "\n",
    "            # Remove the accumulating Gradients\n",
    "            optimizer.zero_grad()\n",
    "\n",
    "            # Make the prediction\n",
    "            pred = model(_data)\n",
    "\n",
    "            # Calculate the Loss\n",
    "            loss = ((pred- _target)**2).sum()\n",
    "\n",
    "            # Perform the back propagations\n",
    "            loss.backward()\n",
    "\n",
    "            # Update the weights\n",
    "            optimizer.step()\n",
    "\n",
    "            # Get Smarter model back\n",
    "            model = model.get()\n",
    "            print(loss.get())"
   ]
  },
  {
   "cell_type": "code",
   "execution_count": 16,
   "metadata": {},
   "outputs": [
    {
     "name": "stdout",
     "output_type": "stream",
     "text": [
      "tensor(0.8437, requires_grad=True)\n",
      "tensor(0.1043, requires_grad=True)\n",
      "tensor(0.6050, requires_grad=True)\n",
      "tensor(0.0012, requires_grad=True)\n",
      "tensor(0.5179, requires_grad=True)\n",
      "tensor(0.0044, requires_grad=True)\n",
      "tensor(0.4484, requires_grad=True)\n",
      "tensor(0.0120, requires_grad=True)\n",
      "tensor(0.3929, requires_grad=True)\n",
      "tensor(0.0216, requires_grad=True)\n",
      "tensor(0.3482, requires_grad=True)\n",
      "tensor(0.0319, requires_grad=True)\n",
      "tensor(0.3121, requires_grad=True)\n",
      "tensor(0.0423, requires_grad=True)\n",
      "tensor(0.2828, requires_grad=True)\n",
      "tensor(0.0524, requires_grad=True)\n",
      "tensor(0.2589, requires_grad=True)\n",
      "tensor(0.0619, requires_grad=True)\n",
      "tensor(0.2393, requires_grad=True)\n",
      "tensor(0.0707, requires_grad=True)\n",
      "tensor(0.2231, requires_grad=True)\n",
      "tensor(0.0787, requires_grad=True)\n",
      "tensor(0.2098, requires_grad=True)\n",
      "tensor(0.0859, requires_grad=True)\n",
      "tensor(0.1987, requires_grad=True)\n",
      "tensor(0.0923, requires_grad=True)\n",
      "tensor(0.1895, requires_grad=True)\n",
      "tensor(0.0981, requires_grad=True)\n",
      "tensor(0.1818, requires_grad=True)\n",
      "tensor(0.1032, requires_grad=True)\n",
      "tensor(0.1754, requires_grad=True)\n",
      "tensor(0.1077, requires_grad=True)\n",
      "tensor(0.1699, requires_grad=True)\n",
      "tensor(0.1116, requires_grad=True)\n",
      "tensor(0.1653, requires_grad=True)\n",
      "tensor(0.1151, requires_grad=True)\n",
      "tensor(0.1615, requires_grad=True)\n",
      "tensor(0.1182, requires_grad=True)\n",
      "tensor(0.1582, requires_grad=True)\n",
      "tensor(0.1208, requires_grad=True)\n"
     ]
    }
   ],
   "source": [
    "train()"
   ]
  },
  {
   "cell_type": "code",
   "execution_count": null,
   "metadata": {},
   "outputs": [],
   "source": []
  }
 ],
 "metadata": {
  "kernelspec": {
   "display_name": "Python 3",
   "language": "python",
   "name": "python3"
  },
  "language_info": {
   "codemirror_mode": {
    "name": "ipython",
    "version": 3
   },
   "file_extension": ".py",
   "mimetype": "text/x-python",
   "name": "python",
   "nbconvert_exporter": "python",
   "pygments_lexer": "ipython3",
   "version": "3.6.4"
  }
 },
 "nbformat": 4,
 "nbformat_minor": 2
}
