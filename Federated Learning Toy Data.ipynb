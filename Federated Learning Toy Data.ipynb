{
 "cells": [
  {
   "cell_type": "code",
   "execution_count": 1,
   "metadata": {},
   "outputs": [],
   "source": [
    "import torch"
   ]
  },
  {
   "cell_type": "code",
   "execution_count": 2,
   "metadata": {},
   "outputs": [],
   "source": [
    "import syft as sy"
   ]
  },
  {
   "cell_type": "code",
   "execution_count": 3,
   "metadata": {},
   "outputs": [],
   "source": [
    "hook = sy.TorchHook(torch)"
   ]
  },
  {
   "cell_type": "code",
   "execution_count": 4,
   "metadata": {},
   "outputs": [],
   "source": [
    "# Create Virtual workers, Bob and Alice\n",
    "bob = sy.VirtualWorker(hook, id='bob')\n",
    "alice = sy.VirtualWorker(hook, id='alice')"
   ]
  },
  {
   "cell_type": "code",
   "execution_count": 5,
   "metadata": {},
   "outputs": [],
   "source": [
    "# Create Sketch Data for training\n",
    "data = torch.tensor([[0., 0.], [0, 1], [1, 0], [1, 1]], requires_grad=True)\n",
    "target = torch.tensor([[0.], [1], [1], [1]], requires_grad=True)"
   ]
  },
  {
   "cell_type": "code",
   "execution_count": 6,
   "metadata": {},
   "outputs": [],
   "source": [
    "data_bob = data[0:2].send(bob)\n",
    "target_bob = target[0:2].send(bob)"
   ]
  },
  {
   "cell_type": "code",
   "execution_count": 7,
   "metadata": {},
   "outputs": [],
   "source": [
    "data_alice = data[2:].send(alice)\n",
    "target_alice = target[2:].send(alice)"
   ]
  },
  {
   "cell_type": "code",
   "execution_count": 8,
   "metadata": {},
   "outputs": [],
   "source": [
    "from torch import nn, optim"
   ]
  },
  {
   "cell_type": "code",
   "execution_count": 9,
   "metadata": {},
   "outputs": [],
   "source": [
    "model = nn.Linear(2, 1)"
   ]
  },
  {
   "cell_type": "code",
   "execution_count": 10,
   "metadata": {},
   "outputs": [],
   "source": [
    "optimizer = optim.SGD(model.parameters(), lr=0.01)\n",
    "criterion = nn.MSELoss()"
   ]
  },
  {
   "cell_type": "code",
   "execution_count": 11,
   "metadata": {},
   "outputs": [],
   "source": [
    "all_data = [(data_bob, target_bob), (data_alice, target_alice)]"
   ]
  },
  {
   "cell_type": "code",
   "execution_count": 12,
   "metadata": {},
   "outputs": [
    {
     "data": {
      "text/plain": [
       "<torch._C.Generator at 0x297325d25b0>"
      ]
     },
     "execution_count": 12,
     "metadata": {},
     "output_type": "execute_result"
    }
   ],
   "source": [
    "# _data, _target = all_data[0]\n",
    "torch.manual_seed(7)"
   ]
  },
  {
   "cell_type": "code",
   "execution_count": 13,
   "metadata": {},
   "outputs": [
    {
     "name": "stdout",
     "output_type": "stream",
     "text": [
      "tensor(0.4545, requires_grad=True)\n",
      "tensor(0.9405, requires_grad=True)\n",
      "tensor(0.4237, requires_grad=True)\n",
      "tensor(0.8387, requires_grad=True)\n",
      "tensor(0.3972, requires_grad=True)\n",
      "tensor(0.7486, requires_grad=True)\n",
      "tensor(0.3743, requires_grad=True)\n",
      "tensor(0.6687, requires_grad=True)\n",
      "tensor(0.3547, requires_grad=True)\n",
      "tensor(0.5979, requires_grad=True)\n",
      "tensor(0.3378, requires_grad=True)\n",
      "tensor(0.5351, requires_grad=True)\n",
      "tensor(0.3234, requires_grad=True)\n",
      "tensor(0.4794, requires_grad=True)\n",
      "tensor(0.3109, requires_grad=True)\n",
      "tensor(0.4299, requires_grad=True)\n",
      "tensor(0.3003, requires_grad=True)\n",
      "tensor(0.3859, requires_grad=True)\n",
      "tensor(0.2911, requires_grad=True)\n",
      "tensor(0.3469, requires_grad=True)\n",
      "tensor(0.2833, requires_grad=True)\n",
      "tensor(0.3122, requires_grad=True)\n",
      "tensor(0.2766, requires_grad=True)\n",
      "tensor(0.2813, requires_grad=True)\n",
      "tensor(0.2708, requires_grad=True)\n",
      "tensor(0.2538, requires_grad=True)\n",
      "tensor(0.2659, requires_grad=True)\n",
      "tensor(0.2293, requires_grad=True)\n",
      "tensor(0.2616, requires_grad=True)\n",
      "tensor(0.2074, requires_grad=True)\n",
      "tensor(0.2579, requires_grad=True)\n",
      "tensor(0.1880, requires_grad=True)\n",
      "tensor(0.2548, requires_grad=True)\n",
      "tensor(0.1706, requires_grad=True)\n",
      "tensor(0.2520, requires_grad=True)\n",
      "tensor(0.1551, requires_grad=True)\n",
      "tensor(0.2496, requires_grad=True)\n",
      "tensor(0.1412, requires_grad=True)\n",
      "tensor(0.2475, requires_grad=True)\n",
      "tensor(0.1288, requires_grad=True)\n"
     ]
    }
   ],
   "source": [
    "loss_user_1 = []\n",
    "loss_user_2 = []\n",
    "for i in range(20):\n",
    "    \n",
    "    for _data, _target in all_data:\n",
    "        # se nd model to the data\n",
    "        model = model.send(_data.location)\n",
    "\n",
    "        # Emove the accumulated weights\n",
    "        optimizer.zero_grad()\n",
    "\n",
    "        # Make Predictions\n",
    "        pred = model(_data)\n",
    "\n",
    "        #Calculate the loss\n",
    "        # loss = ((pred -_target)**2).sum()\n",
    "        loss = criterion(pred , _target)\n",
    "\n",
    "        # Perform the backward propagation\n",
    "        loss.backward()\n",
    "\n",
    "        # Update the weights\n",
    "        optimizer.step()\n",
    "\n",
    "        # Get a smarter model\n",
    "        model.get()\n",
    "\n",
    "        # Print the loss value\n",
    "        LL = loss.get()\n",
    "        loss_user_1.append(LL.item()) if i%2 == 0 else loss_user_2.append(LL.item())\n",
    "\n",
    "        print(LL)\n",
    "    "
   ]
  },
  {
   "cell_type": "code",
   "execution_count": 14,
   "metadata": {},
   "outputs": [],
   "source": [
    "import matplotlib.pyplot as plt\n",
    "%matplotlib inline\n",
    "import numpy as np"
   ]
  },
  {
   "cell_type": "code",
   "execution_count": 15,
   "metadata": {},
   "outputs": [
    {
     "data": {
      "text/plain": [
       "[<matplotlib.lines.Line2D at 0x29735137c50>]"
      ]
     },
     "execution_count": 15,
     "metadata": {},
     "output_type": "execute_result"
    },
    {
     "data": {
      "image/png": "[encoded data removed]",
      "text/plain": [
       "<Figure size 432x288 with 1 Axes>"
      ]
     },
     "metadata": {
      "needs_background": "light"
     },
     "output_type": "display_data"
    }
   ],
   "source": [
    "plt.plot(loss_user_1, color='r')\n",
    "plt.plot(loss_user_2, color='b')"
   ]
  },
  {
   "cell_type": "code",
   "execution_count": null,
   "metadata": {},
   "outputs": [],
   "source": []
  }
 ],
 "metadata": {
  "kernelspec": {
   "display_name": "Python 3",
   "language": "python",
   "name": "python3"
  },
  "language_info": {
   "codemirror_mode": {
    "name": "ipython",
    "version": 3
   },
   "file_extension": ".py",
   "mimetype": "text/x-python",
   "name": "python",
   "nbconvert_exporter": "python",
   "pygments_lexer": "ipython3",
   "version": "3.6.4"
  }
 },
 "nbformat": 4,
 "nbformat_minor": 2
}
