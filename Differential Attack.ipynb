{
 "cells": [
  {
   "cell_type": "code",
   "execution_count": 57,
   "metadata": {},
   "outputs": [],
   "source": [
    "# Import modules\n",
    "import torch"
   ]
  },
  {
   "cell_type": "code",
   "execution_count": 58,
   "metadata": {},
   "outputs": [],
   "source": [
    "# Create a parallel db generator which removes one record from the original db and keeps the rest of the records\n",
    "def par_db_generator(db, idx):\n",
    "    return torch.cat((db[0:idx], db[idx+1:]))"
   ]
  },
  {
   "cell_type": "code",
   "execution_count": 59,
   "metadata": {},
   "outputs": [],
   "source": [
    "# Backle up the parallel databases together\n",
    "# it depends entirely on the length of the first db\n",
    "def par_dbs(db):\n",
    "    \"\"\"This creates an array with the datase columns = len(db-1)\n",
    "    Since we are removing one record at a time and returning the remaining values\n",
    "    \"\"\"\n",
    "    db_all = []\n",
    "    \n",
    "    for i in range(len(db)):\n",
    "        par_db = par_db_generator(db, i)\n",
    "        db_all.append(par_db)\n",
    "        \n",
    "    return db_all"
   ]
  },
  {
   "cell_type": "code",
   "execution_count": 60,
   "metadata": {},
   "outputs": [],
   "source": [
    "# Create a function to generate the required data based on a given sample of users or records\n",
    "def generate_db(rec_no):\n",
    "    \"\"\"This function generates the db that is then usd to generate the parallel dbs\"\"\"\n",
    "    db = torch.rand(rec_no)>0.5\n",
    "    # print('Original DB\\n{}'.format(db))\n",
    "    \n",
    "    #Generate the entire parallel db\n",
    "    pdbs = par_dbs(db)\n",
    "    \n",
    "    return db, pdbs    "
   ]
  },
  {
   "cell_type": "code",
   "execution_count": 61,
   "metadata": {},
   "outputs": [
    {
     "data": {
      "text/plain": [
       "tensor([0, 0, 0, 1, 0, 1, 1, 1, 1, 1], dtype=torch.uint8)"
      ]
     },
     "execution_count": 61,
     "metadata": {},
     "output_type": "execute_result"
    }
   ],
   "source": [
    "# -- TODO -- \n",
    "# Print the original database\n",
    "db, pdb = generate_db(10)\n",
    "db"
   ]
  },
  {
   "cell_type": "code",
   "execution_count": 62,
   "metadata": {},
   "outputs": [
    {
     "name": "stdout",
     "output_type": "stream",
     "text": [
      "[tensor([0, 0, 1, 0, 1, 1, 1, 1, 1], dtype=torch.uint8), tensor([0, 0, 1, 0, 1, 1, 1, 1, 1], dtype=torch.uint8), tensor([0, 0, 1, 0, 1, 1, 1, 1, 1], dtype=torch.uint8), tensor([0, 0, 0, 0, 1, 1, 1, 1, 1], dtype=torch.uint8), tensor([0, 0, 0, 1, 1, 1, 1, 1, 1], dtype=torch.uint8), tensor([0, 0, 0, 1, 0, 1, 1, 1, 1], dtype=torch.uint8), tensor([0, 0, 0, 1, 0, 1, 1, 1, 1], dtype=torch.uint8), tensor([0, 0, 0, 1, 0, 1, 1, 1, 1], dtype=torch.uint8), tensor([0, 0, 0, 1, 0, 1, 1, 1, 1], dtype=torch.uint8), tensor([0, 0, 0, 1, 0, 1, 1, 1, 1], dtype=torch.uint8)]\n"
     ]
    }
   ],
   "source": [
    "print(pdb)"
   ]
  },
  {
   "cell_type": "code",
   "execution_count": 63,
   "metadata": {},
   "outputs": [
    {
     "name": "stdout",
     "output_type": "stream",
     "text": [
      "tensor(1, dtype=torch.uint8)\n"
     ]
    }
   ],
   "source": [
    "# -- TODO -- \n",
    "# Print the parallel databases\n",
    "print(db[7])\n",
    "pdb = pdb[7]"
   ]
  },
  {
   "cell_type": "code",
   "execution_count": 64,
   "metadata": {},
   "outputs": [
    {
     "data": {
      "text/plain": [
       "tensor([0, 0, 0, 1, 0, 1, 1, 1, 1], dtype=torch.uint8)"
      ]
     },
     "execution_count": 64,
     "metadata": {},
     "output_type": "execute_result"
    }
   ],
   "source": [
    "# -- TODO --\n",
    "# print a single value to evaluate on\n",
    "# This is to confirm whether or not this value has effect on the final outcome\n",
    "# sum(db)\n",
    "pdb\n"
   ]
  },
  {
   "cell_type": "code",
   "execution_count": 65,
   "metadata": {},
   "outputs": [
    {
     "data": {
      "text/plain": [
       "tensor(1, dtype=torch.uint8)"
      ]
     },
     "execution_count": 65,
     "metadata": {},
     "output_type": "execute_result"
    }
   ],
   "source": [
    "# Differencing attack using sum()\n",
    "sum(db) - sum(pdb)"
   ]
  },
  {
   "cell_type": "code",
   "execution_count": 66,
   "metadata": {},
   "outputs": [
    {
     "data": {
      "text/plain": [
       "tensor(0.0444)"
      ]
     },
     "execution_count": 66,
     "metadata": {},
     "output_type": "execute_result"
    }
   ],
   "source": [
    "# Differencing attack using mean()\n",
    "torch.abs(sum(db).float()/len(db) -sum(pdb).float()/len(pdb))"
   ]
  },
  {
   "cell_type": "code",
   "execution_count": 67,
   "metadata": {},
   "outputs": [],
   "source": [
    "# Its Equivalent\n",
    "# average of the binary data, i.e, either 0 or 1\n",
    "# Divide by the number of samples\n",
    "\n",
    "# --TODO--\n",
    "\n"
   ]
  },
  {
   "cell_type": "code",
   "execution_count": 70,
   "metadata": {},
   "outputs": [
    {
     "data": {
      "text/plain": [
       "tensor(6, dtype=torch.uint8)"
      ]
     },
     "execution_count": 70,
     "metadata": {},
     "output_type": "execute_result"
    }
   ],
   "source": [
    "# Differencing attack using threshold()\n",
    "# check the sum of the db and then use the lower value of the sum as the threshold\n",
    "\n",
    "# -- TODO --\n",
    "sum(db)\n"
   ]
  },
  {
   "cell_type": "code",
   "execution_count": 71,
   "metadata": {},
   "outputs": [
    {
     "data": {
      "text/plain": [
       "tensor(1, dtype=torch.uint8)"
      ]
     },
     "execution_count": 71,
     "metadata": {},
     "output_type": "execute_result"
    }
   ],
   "source": [
    "\n",
    "(sum(db).float()>=6) - (sum(pdb).float()>6)"
   ]
  }
 ],
 "metadata": {
  "kernelspec": {
   "display_name": "Python 3",
   "language": "python",
   "name": "python3"
  },
  "language_info": {
   "codemirror_mode": {
    "name": "ipython",
    "version": 3
   },
   "file_extension": ".py",
   "mimetype": "text/x-python",
   "name": "python",
   "nbconvert_exporter": "python",
   "pygments_lexer": "ipython3",
   "version": "3.6.4"
  }
 },
 "nbformat": 4,
 "nbformat_minor": 2
}
