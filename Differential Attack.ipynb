{
 "cells": [
  {
   "cell_type": "code",
   "execution_count": 205,
   "metadata": {},
   "outputs": [],
   "source": [
    "# Import modules\n",
    "import torch"
   ]
  },
  {
   "cell_type": "code",
   "execution_count": 206,
   "metadata": {},
   "outputs": [],
   "source": [
    "# Create a parallel db generator which removes one record from the original db and keeps the rest of the records\n",
    "def par_db_generator(db, idx):\n",
    "    return torch.cat((db[0:idx], db[idx+1:]))"
   ]
  },
  {
   "cell_type": "code",
   "execution_count": 207,
   "metadata": {},
   "outputs": [],
   "source": [
    "# Backle up the parallel databases together\n",
    "# it depends entirely on the length of the first db\n",
    "def par_dbs(db):\n",
    "    \"\"\"This creates an array with the datase columns = len(db-1)\n",
    "    Since we are removing one record at a time and returning the remaining values\n",
    "    \"\"\"\n",
    "    db_all = []\n",
    "    \n",
    "    for i in range(len(db)):\n",
    "        par_db = par_db_generator(db, i)\n",
    "        db_all.append(par_db)\n",
    "        \n",
    "    return db_all"
   ]
  },
  {
   "cell_type": "code",
   "execution_count": 208,
   "metadata": {},
   "outputs": [],
   "source": [
    "# Create a function to generate the required data based on a given sample of users or records\n",
    "def generate_db(rec_no):\n",
    "    \"\"\"This function generates the db that is then usd to generate the parallel dbs\"\"\"\n",
    "    db = torch.rand(rec_no)>0.5\n",
    "    # print('Original DB\\n{}'.format(db))\n",
    "    \n",
    "    #Generate the entire parallel db\n",
    "    pdbs = par_dbs(db)\n",
    "    \n",
    "    return db, pdbs    "
   ]
  },
  {
   "cell_type": "code",
   "execution_count": 209,
   "metadata": {},
   "outputs": [
    {
     "data": {
      "text/plain": [
       "tensor(1, dtype=torch.uint8)"
      ]
     },
     "execution_count": 209,
     "metadata": {},
     "output_type": "execute_result"
    }
   ],
   "source": [
    "# Generate the db\n",
    "db, _ = generate_db(100)\n",
    "\n",
    "# Remove the element of index 10\n",
    "pdb = par_db_generator(db, 10)\n",
    "db[10]"
   ]
  },
  {
   "cell_type": "code",
   "execution_count": 210,
   "metadata": {},
   "outputs": [
    {
     "data": {
      "text/plain": [
       "tensor(1, dtype=torch.uint8)"
      ]
     },
     "execution_count": 210,
     "metadata": {},
     "output_type": "execute_result"
    }
   ],
   "source": [
    "# Differencing attack using sum()\n",
    "sum(db) - sum(pdb)"
   ]
  },
  {
   "cell_type": "code",
   "execution_count": 211,
   "metadata": {},
   "outputs": [
    {
     "data": {
      "text/plain": [
       "tensor(0.0049)"
      ]
     },
     "execution_count": 211,
     "metadata": {},
     "output_type": "execute_result"
    }
   ],
   "source": [
    "# Differencing attack using mean()\n",
    "sum(db).float()/len(db) -sum(pdb).float()/len(pdb)"
   ]
  },
  {
   "cell_type": "code",
   "execution_count": 216,
   "metadata": {},
   "outputs": [
    {
     "data": {
      "text/plain": [
       "tensor(1, dtype=torch.uint8)"
      ]
     },
     "execution_count": 216,
     "metadata": {},
     "output_type": "execute_result"
    }
   ],
   "source": [
    "# Differencing attack using threshold()\n",
    "(sum(db).float()>50) - (sum(pdb).float()>50)"
   ]
  },
  {
   "cell_type": "code",
   "execution_count": 214,
   "metadata": {},
   "outputs": [
    {
     "data": {
      "text/plain": [
       "tensor(51, dtype=torch.uint8)"
      ]
     },
     "execution_count": 214,
     "metadata": {},
     "output_type": "execute_result"
    }
   ],
   "source": [
    "sum(db)"
   ]
  },
  {
   "cell_type": "code",
   "execution_count": 215,
   "metadata": {},
   "outputs": [
    {
     "data": {
      "text/plain": [
       "tensor(50, dtype=torch.uint8)"
      ]
     },
     "execution_count": 215,
     "metadata": {},
     "output_type": "execute_result"
    }
   ],
   "source": [
    "sum(pdb)"
   ]
  },
  {
   "cell_type": "code",
   "execution_count": null,
   "metadata": {},
   "outputs": [],
   "source": []
  }
 ],
 "metadata": {
  "kernelspec": {
   "display_name": "Python 3",
   "language": "python",
   "name": "python3"
  },
  "language_info": {
   "codemirror_mode": {
    "name": "ipython",
    "version": 3
   },
   "file_extension": ".py",
   "mimetype": "text/x-python",
   "name": "python",
   "nbconvert_exporter": "python",
   "pygments_lexer": "ipython3",
   "version": "3.6.4"
  }
 },
 "nbformat": 4,
 "nbformat_minor": 2
}
