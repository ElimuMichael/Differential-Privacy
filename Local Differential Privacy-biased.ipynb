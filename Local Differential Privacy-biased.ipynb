{
 "cells": [
  {
   "cell_type": "code",
   "execution_count": 8,
   "metadata": {},
   "outputs": [
    {
     "data": {
      "text/plain": [
       "<torch._C.Generator at 0x2cbb6698dd0>"
      ]
     },
     "execution_count": 8,
     "metadata": {},
     "output_type": "execute_result"
    }
   ],
   "source": [
    "# Import modules\n",
    "import torch\n",
    "import numpy as np\n",
    "torch.manual_seed(7)"
   ]
  },
  {
   "cell_type": "code",
   "execution_count": 9,
   "metadata": {},
   "outputs": [],
   "source": [
    "# Create a parallel db generator which removes one record from the original db and keeps the rest of the records\n",
    "def par_db_generator(db, idx):\n",
    "    return torch.cat((db[0:idx], db[idx+1:]))"
   ]
  },
  {
   "cell_type": "code",
   "execution_count": 10,
   "metadata": {},
   "outputs": [],
   "source": [
    "def coinflip(noise):\n",
    "    answer = 0\n",
    "    if torch.rand(1)>noise:\n",
    "        answer=1\n",
    "        return answer\n",
    "    else:\n",
    "        if torch.rand(1)>0.5:\n",
    "            answer=1\n",
    "            return answer\n",
    "        return answer\n",
    "            "
   ]
  },
  {
   "cell_type": "code",
   "execution_count": 11,
   "metadata": {},
   "outputs": [],
   "source": [
    "# Backle up the parallel databases together\n",
    "# it depends entirely on the length of the first db\n",
    "def par_dbs(db):\n",
    "    \"\"\"This creates an array with the datase columns = len(db-1)\n",
    "    Since we are removing one record at a time and returning the remaining values\n",
    "    \"\"\"\n",
    "    db_all = []\n",
    "    par_db = torch.ones(db.shape).type(torch.int)\n",
    "    for i in range(len(db)):\n",
    "        par_db = torch.cat((db[0:i], db[i+1:]))\n",
    "        \n",
    "        db_all.append(par_db)\n",
    "        \n",
    "    return db_all"
   ]
  },
  {
   "cell_type": "code",
   "execution_count": 12,
   "metadata": {},
   "outputs": [],
   "source": [
    "# Create a function to generate the required data based on a given sample of users or records\n",
    "def generate_db(rec_no):\n",
    "    \"\"\"This function generates the db that is then usd to generate the parallel dbs\"\"\"\n",
    "    db = torch.rand(rec_no)>0.5\n",
    "    # print('Original DB\\n{}'.format(db))\n",
    "    \n",
    "    #Generate the entire parallel db\n",
    "    # My Solution\n",
    "    pdbs = par_dbs(db)\n",
    "    \n",
    "    \n",
    "    # Lecture Solution\n",
    "#     first_coin_flip = (torch.rand(len(db))>0.5).float()\n",
    "#     second_coin_flip = (torch.rand(len(db))>0.5).float()\n",
    "#     pdbs = db.float()*first_coin_flip + (1-first_coin_flip)*second_coin_flip\n",
    "    \n",
    "    return db, pdbs    "
   ]
  },
  {
   "cell_type": "code",
   "execution_count": 90,
   "metadata": {
    "scrolled": true
   },
   "outputs": [],
   "source": [
    "def query(num_entries, noise):\n",
    "    db, _ = generate_db(num_entries)\n",
    "    \n",
    "    ful_db_query = db.float().mean()\n",
    "    baised_first_flip = np.random.choice(2, size=num_entries, p=[noise, 1-noise])\n",
    "    ex_based_first_flip = (torch.rand(num_entries) > (1-noise)).float()\n",
    "    \n",
    "    toss_one = torch.tensor(baised_first_flip).float()\n",
    "    # print(toss_one)\n",
    "    toss_two = (torch.rand(len(db))>0.5).float()\n",
    "    # print(toss_two)\n",
    "    augmented_output = toss_one*db.float() + (1-toss_one)*toss_two\n",
    "    \n",
    "    augmented_output_ex = ex_based_first_flip*db.float() + (1-ex_based_first_flip)*toss_two\n",
    "    \n",
    "    query_result = augmented_output.mean()*2 - 0.5\n",
    "    \n",
    "    # Skewed Results\n",
    "    skewed_result = augmented_output.float().mean()    \n",
    "    skewed_result_ex = augmented_output_ex.float().mean()\n",
    "    \n",
    "    # Private Results\n",
    "    private_result = ((skewed_result/noise) - 0.5)*(noise/ (1-noise))\n",
    "    private_result_ex = ((skewed_result_ex/(1-noise)) - 0.5)*((1-noise)/noise)\n",
    "    \n",
    "    return private_result, ful_db_query, private_result_ex"
   ]
  },
  {
   "cell_type": "code",
   "execution_count": 91,
   "metadata": {
    "scrolled": true
   },
   "outputs": [
    {
     "name": "stdout",
     "output_type": "stream",
     "text": [
      "10 Entries\n",
      "Noise:  0.2\n",
      "Without Noise:  0.4000000059604645\n",
      "Mine With Noise:  0.375\n",
      "Ex With Noise:  1.0 \n",
      "\n",
      "Noise:  0.4\n",
      "Without Noise:  0.30000001192092896\n",
      "Mine With Noise:  0.5\n",
      "Ex With Noise:  0.0 \n",
      "\n",
      "Noise:  0.6\n",
      "Without Noise:  0.4000000059604645\n",
      "Mine With Noise:  0.24999994039535522\n",
      "Ex With Noise:  0.0 \n",
      "\n",
      "Noise:  0.8\n",
      "Without Noise:  0.5\n",
      "Mine With Noise:  0.5\n",
      "Ex With Noise:  0.375 \n",
      "\n",
      "100 Entries\n",
      "Noise:  0.2\n",
      "Without Noise:  0.44999998807907104\n",
      "Mine With Noise:  0.550000011920929\n",
      "Ex With Noise:  0.7999999523162842 \n",
      "\n",
      "Noise:  0.4\n",
      "Without Noise:  0.4699999988079071\n",
      "Mine With Noise:  0.40000003576278687\n",
      "Ex With Noise:  0.5999999642372131 \n",
      "\n",
      "Noise:  0.6\n",
      "Without Noise:  0.44999998807907104\n",
      "Mine With Noise:  0.2749999165534973\n",
      "Ex With Noise:  0.46666663885116577 \n",
      "\n",
      "Noise:  0.8\n",
      "Without Noise:  0.5099999904632568\n",
      "Mine With Noise:  1.0499999523162842\n",
      "Ex With Noise:  0.48750001192092896 \n",
      "\n",
      "1000 Entries\n",
      "Noise:  0.2\n",
      "Without Noise:  0.5080000162124634\n",
      "Mine With Noise:  0.48874998092651367\n",
      "Ex With Noise:  0.5899999141693115 \n",
      "\n",
      "Noise:  0.4\n",
      "Without Noise:  0.5019999742507935\n",
      "Mine With Noise:  0.5033332705497742\n",
      "Ex With Noise:  0.5224999189376831 \n",
      "\n",
      "Noise:  0.6\n",
      "Without Noise:  0.49399998784065247\n",
      "Mine With Noise:  0.5425000190734863\n",
      "Ex With Noise:  0.47833332419395447 \n",
      "\n",
      "Noise:  0.8\n",
      "Without Noise:  0.5249999761581421\n",
      "Mine With Noise:  0.5099997520446777\n",
      "Ex With Noise:  0.5174999833106995 \n",
      "\n",
      "10000 Entries\n",
      "Noise:  0.2\n",
      "Without Noise:  0.4999000132083893\n",
      "Mine With Noise:  0.4973750114440918\n",
      "Ex With Noise:  0.4760000705718994 \n",
      "\n",
      "Noise:  0.4\n",
      "Without Noise:  0.4945000112056732\n",
      "Mine With Noise:  0.5021666288375854\n",
      "Ex With Noise:  0.516749918460846 \n",
      "\n",
      "Noise:  0.6\n",
      "Without Noise:  0.5090000033378601\n",
      "Mine With Noise:  0.5184998512268066\n",
      "Ex With Noise:  0.49916666746139526 \n",
      "\n",
      "Noise:  0.8\n",
      "Without Noise:  0.5008999705314636\n",
      "Mine With Noise:  0.48199987411499023\n",
      "Ex With Noise:  0.5066249966621399 \n",
      "\n"
     ]
    }
   ],
   "source": [
    "\n",
    "for i in [10, 100, 1000, 10000]:\n",
    "    print(i, 'Entries')\n",
    "    for noise in [0.2, 0.4, 0.6, 0.8]:\n",
    "        print('Noise: ', noise)\n",
    "        print(\"Without Noise: \", query(i, noise)[1].item())\n",
    "        print(\"Mine With Noise: \", query(i, noise)[0].item())\n",
    "        print(\"Ex With Noise: \", query(i, noise)[2].item(), '\\n')"
   ]
  },
  {
   "cell_type": "code",
   "execution_count": null,
   "metadata": {},
   "outputs": [],
   "source": [
    "Here is a query I made instead of the one that was illustrated in the video. 5.6. Could I be wrong in any way, since I am making a choice based on probability instead of using this noise as a threshold as in the example in the video"
   ]
  }
 ],
 "metadata": {
  "kernelspec": {
   "display_name": "Python 3",
   "language": "python",
   "name": "python3"
  },
  "language_info": {
   "codemirror_mode": {
    "name": "ipython",
    "version": 3
   },
   "file_extension": ".py",
   "mimetype": "text/x-python",
   "name": "python",
   "nbconvert_exporter": "python",
   "pygments_lexer": "ipython3",
   "version": "3.6.4"
  }
 },
 "nbformat": 4,
 "nbformat_minor": 2
}
