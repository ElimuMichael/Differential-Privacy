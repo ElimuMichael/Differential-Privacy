{
 "cells": [
  {
   "cell_type": "markdown",
   "metadata": {},
   "source": [
    "## Hospital Data\n",
    "Here we assume that we are dealing with private data from the hospitals.\n",
    "Suppose we have 10 hospitals who trained our model for their private data and we want to use their model to predict our unlabeled data\n",
    "### E.g\n",
    "We have 10,000 unlabeled images that we need to classify using these 10 hospital models and use the outcome to be what we shall use for our model retrainer\n"
   ]
  },
  {
   "cell_type": "code",
   "execution_count": 57,
   "metadata": {},
   "outputs": [],
   "source": [
    "# imports\n",
    "import numpy as np"
   ]
  },
  {
   "cell_type": "code",
   "execution_count": 58,
   "metadata": {},
   "outputs": [],
   "source": [
    "# Define the data parameters\n",
    "num_trainers = 10             # The number of Hospitls that are training/running out models\n",
    "num_examples = 100          # The Number of unlabled images we have at hand that we want to predict using the trained models from the hospitals\n",
    "num_classes = 10              # Number of labels in the model (our classifier)"
   ]
  },
  {
   "cell_type": "code",
   "execution_count": 59,
   "metadata": {},
   "outputs": [
    {
     "data": {
      "text/plain": [
       "array([[7, 3, 3, 7, 9, 8, 4, 6, 6, 7, 5, 4, 9, 9, 0, 3, 0, 7, 2, 4, 0, 9,\n",
       "        9, 3, 8, 9, 0, 7, 7, 9, 2, 2, 7, 3, 6, 4, 0, 6, 9, 5, 9, 7, 7, 6,\n",
       "        7, 8, 0, 0, 9, 5, 7, 1, 9, 1, 6, 6, 0, 5, 8, 9, 1, 3, 5, 7, 9, 3,\n",
       "        8, 3, 7, 9, 9, 1, 8, 5, 5, 8, 6, 3, 3, 9, 9, 4, 0, 5, 5, 3, 6, 6,\n",
       "        4, 6, 7, 2, 7, 0, 3, 1, 7, 2, 8, 8],\n",
       "       [7, 4, 3, 9, 2, 4, 3, 9, 4, 9, 9, 5, 5, 8, 0, 4, 9, 8, 5, 1, 2, 0,\n",
       "        5, 9, 4, 3, 9, 1, 5, 0, 3, 9, 4, 3, 1, 5, 8, 0, 3, 2, 1, 0, 0, 6,\n",
       "        3, 5, 1, 8, 0, 9, 6, 3, 1, 2, 4, 0, 4, 4, 6, 5, 8, 0, 6, 2, 8, 4,\n",
       "        3, 9, 2, 1, 7, 0, 1, 6, 2, 6, 4, 8, 9, 9, 3, 3, 7, 7, 8, 3, 5, 6,\n",
       "        8, 7, 1, 7, 6, 3, 3, 9, 7, 5, 6, 1],\n",
       "       [3, 6, 6, 8, 4, 2, 2, 2, 4, 9, 9, 6, 9, 9, 7, 4, 3, 1, 1, 1, 1, 2,\n",
       "        1, 3, 8, 6, 9, 4, 5, 3, 6, 1, 5, 7, 4, 4, 6, 1, 9, 7, 6, 0, 0, 1,\n",
       "        9, 9, 6, 7, 5, 8, 3, 9, 7, 8, 0, 7, 3, 3, 0, 3, 7, 7, 6, 7, 9, 9,\n",
       "        0, 1, 5, 0, 9, 4, 2, 8, 5, 7, 2, 4, 6, 6, 2, 3, 6, 8, 4, 1, 1, 5,\n",
       "        9, 5, 2, 3, 8, 8, 4, 9, 0, 2, 5, 0],\n",
       "       [5, 0, 3, 9, 1, 7, 7, 8, 5, 2, 3, 2, 8, 0, 3, 8, 1, 8, 3, 5, 5, 1,\n",
       "        7, 9, 2, 9, 7, 9, 4, 5, 2, 6, 1, 1, 9, 8, 2, 2, 7, 5, 8, 0, 2, 5,\n",
       "        8, 2, 1, 8, 4, 5, 4, 6, 8, 0, 8, 6, 2, 1, 0, 2, 8, 7, 2, 9, 8, 5,\n",
       "        6, 4, 8, 2, 3, 5, 3, 2, 8, 8, 5, 2, 4, 8, 0, 2, 1, 9, 2, 1, 8, 4,\n",
       "        8, 9, 3, 3, 2, 2, 4, 8, 3, 1, 1, 9],\n",
       "       [5, 0, 6, 3, 6, 0, 2, 9, 4, 4, 6, 7, 9, 5, 6, 1, 8, 2, 0, 4, 3, 1,\n",
       "        1, 5, 7, 9, 1, 6, 6, 3, 0, 4, 9, 0, 4, 3, 1, 5, 1, 0, 6, 8, 3, 1,\n",
       "        5, 8, 7, 0, 7, 8, 2, 8, 5, 7, 4, 6, 1, 6, 8, 5, 8, 4, 4, 3, 7, 1,\n",
       "        2, 9, 1, 3, 1, 7, 4, 8, 8, 4, 8, 6, 2, 6, 7, 6, 1, 9, 8, 9, 5, 5,\n",
       "        2, 7, 8, 1, 5, 5, 9, 5, 4, 8, 3, 4],\n",
       "       [3, 8, 1, 7, 7, 1, 2, 0, 7, 5, 5, 5, 1, 7, 5, 9, 5, 0, 2, 8, 6, 7,\n",
       "        5, 9, 7, 5, 6, 4, 6, 5, 7, 2, 3, 2, 2, 9, 0, 0, 9, 3, 5, 7, 1, 5,\n",
       "        8, 5, 6, 5, 0, 6, 5, 0, 0, 4, 6, 9, 6, 9, 7, 2, 8, 1, 6, 7, 6, 0,\n",
       "        8, 3, 7, 0, 0, 8, 9, 5, 2, 6, 5, 6, 0, 6, 1, 9, 7, 9, 2, 4, 1, 9,\n",
       "        2, 2, 1, 7, 8, 6, 4, 9, 7, 3, 5, 6],\n",
       "       [8, 5, 6, 6, 1, 9, 8, 0, 9, 2, 8, 7, 5, 3, 4, 9, 2, 5, 9, 4, 6, 5,\n",
       "        2, 7, 0, 4, 2, 0, 2, 4, 7, 8, 3, 4, 2, 2, 5, 3, 4, 1, 0, 6, 9, 8,\n",
       "        4, 4, 5, 6, 5, 5, 3, 1, 8, 5, 7, 2, 2, 3, 6, 8, 4, 5, 7, 2, 0, 1,\n",
       "        5, 8, 3, 3, 9, 2, 0, 2, 7, 3, 4, 2, 5, 3, 1, 4, 8, 0, 3, 6, 3, 6,\n",
       "        4, 9, 7, 2, 8, 5, 0, 2, 7, 8, 9, 5],\n",
       "       [1, 1, 9, 6, 4, 9, 9, 5, 8, 6, 0, 7, 9, 9, 7, 4, 0, 3, 9, 1, 0, 0,\n",
       "        3, 8, 1, 6, 9, 9, 5, 3, 6, 8, 5, 9, 5, 4, 8, 8, 0, 2, 3, 2, 6, 6,\n",
       "        3, 9, 3, 0, 4, 0, 7, 3, 8, 3, 4, 2, 0, 6, 1, 0, 8, 1, 6, 5, 1, 1,\n",
       "        3, 8, 3, 1, 9, 8, 1, 9, 0, 9, 8, 1, 7, 8, 9, 8, 3, 8, 0, 6, 3, 3,\n",
       "        6, 3, 7, 9, 7, 7, 6, 7, 9, 1, 5, 3],\n",
       "       [1, 3, 5, 4, 9, 8, 6, 2, 3, 3, 3, 9, 7, 0, 8, 2, 7, 1, 3, 8, 2, 0,\n",
       "        1, 9, 7, 9, 0, 3, 1, 9, 3, 2, 4, 8, 2, 4, 9, 2, 3, 8, 3, 7, 1, 0,\n",
       "        2, 5, 7, 2, 4, 5, 0, 0, 0, 4, 1, 3, 6, 2, 7, 4, 1, 1, 8, 3, 0, 0,\n",
       "        6, 0, 1, 8, 0, 3, 0, 5, 8, 0, 3, 8, 5, 5, 9, 9, 3, 5, 5, 4, 1, 4,\n",
       "        5, 4, 5, 9, 9, 7, 3, 6, 0, 5, 2, 0],\n",
       "       [7, 6, 9, 5, 2, 0, 2, 4, 5, 3, 0, 5, 0, 7, 5, 8, 1, 2, 3, 6, 7, 8,\n",
       "        9, 7, 0, 2, 8, 8, 0, 0, 4, 6, 7, 1, 3, 9, 0, 3, 1, 7, 3, 2, 0, 0,\n",
       "        6, 7, 4, 5, 5, 9, 5, 4, 1, 6, 3, 0, 4, 3, 3, 3, 5, 9, 4, 5, 9, 9,\n",
       "        5, 5, 4, 7, 6, 5, 2, 9, 6, 8, 3, 2, 0, 0, 5, 4, 6, 0, 4, 4, 7, 9,\n",
       "        2, 1, 1, 3, 0, 7, 1, 4, 6, 1, 7, 0]])"
      ]
     },
     "execution_count": 59,
     "metadata": {},
     "output_type": "execute_result"
    }
   ],
   "source": [
    "# Generate a random prediction (Fakes) of the models for our 10000 samples\n",
    "predictions = (np.random.rand(num_trainers, num_examples)*num_classes).astype(int)\n",
    "predictions"
   ]
  },
  {
   "cell_type": "code",
   "execution_count": 60,
   "metadata": {},
   "outputs": [
    {
     "data": {
      "text/plain": [
       "array([[7, 7, 3, 5, 5, 3, 8, 1, 1, 7],\n",
       "       [3, 4, 6, 0, 0, 8, 5, 1, 3, 6],\n",
       "       [3, 3, 6, 3, 6, 1, 6, 9, 5, 9],\n",
       "       [7, 9, 8, 9, 3, 7, 6, 6, 4, 5],\n",
       "       [9, 2, 4, 1, 6, 7, 1, 4, 9, 2],\n",
       "       [8, 4, 2, 7, 0, 1, 9, 9, 8, 0],\n",
       "       [4, 3, 2, 7, 2, 2, 8, 9, 6, 2],\n",
       "       [6, 9, 2, 8, 9, 0, 0, 5, 2, 4],\n",
       "       [6, 4, 4, 5, 4, 7, 9, 8, 3, 5],\n",
       "       [7, 9, 9, 2, 4, 5, 2, 6, 3, 3],\n",
       "       [5, 9, 9, 3, 6, 5, 8, 0, 3, 0],\n",
       "       [4, 5, 6, 2, 7, 5, 7, 7, 9, 5],\n",
       "       [9, 5, 9, 8, 9, 1, 5, 9, 7, 0],\n",
       "       [9, 8, 9, 0, 5, 7, 3, 9, 0, 7],\n",
       "       [0, 0, 7, 3, 6, 5, 4, 7, 8, 5],\n",
       "       [3, 4, 4, 8, 1, 9, 9, 4, 2, 8],\n",
       "       [0, 9, 3, 1, 8, 5, 2, 0, 7, 1],\n",
       "       [7, 8, 1, 8, 2, 0, 5, 3, 1, 2],\n",
       "       [2, 5, 1, 3, 0, 2, 9, 9, 3, 3],\n",
       "       [4, 1, 1, 5, 4, 8, 4, 1, 8, 6],\n",
       "       [0, 2, 1, 5, 3, 6, 6, 0, 2, 7],\n",
       "       [9, 0, 2, 1, 1, 7, 5, 0, 0, 8],\n",
       "       [9, 5, 1, 7, 1, 5, 2, 3, 1, 9],\n",
       "       [3, 9, 3, 9, 5, 9, 7, 8, 9, 7],\n",
       "       [8, 4, 8, 2, 7, 7, 0, 1, 7, 0],\n",
       "       [9, 3, 6, 9, 9, 5, 4, 6, 9, 2],\n",
       "       [0, 9, 9, 7, 1, 6, 2, 9, 0, 8],\n",
       "       [7, 1, 4, 9, 6, 4, 0, 9, 3, 8],\n",
       "       [7, 5, 5, 4, 6, 6, 2, 5, 1, 0],\n",
       "       [9, 0, 3, 5, 3, 5, 4, 3, 9, 0],\n",
       "       [2, 3, 6, 2, 0, 7, 7, 6, 3, 4],\n",
       "       [2, 9, 1, 6, 4, 2, 8, 8, 2, 6],\n",
       "       [7, 4, 5, 1, 9, 3, 3, 5, 4, 7],\n",
       "       [3, 3, 7, 1, 0, 2, 4, 9, 8, 1],\n",
       "       [6, 1, 4, 9, 4, 2, 2, 5, 2, 3],\n",
       "       [4, 5, 4, 8, 3, 9, 2, 4, 4, 9],\n",
       "       [0, 8, 6, 2, 1, 0, 5, 8, 9, 0],\n",
       "       [6, 0, 1, 2, 5, 0, 3, 8, 2, 3],\n",
       "       [9, 3, 9, 7, 1, 9, 4, 0, 3, 1],\n",
       "       [5, 2, 7, 5, 0, 3, 1, 2, 8, 7],\n",
       "       [9, 1, 6, 8, 6, 5, 0, 3, 3, 3],\n",
       "       [7, 0, 0, 0, 8, 7, 6, 2, 7, 2],\n",
       "       [7, 0, 0, 2, 3, 1, 9, 6, 1, 0],\n",
       "       [6, 6, 1, 5, 1, 5, 8, 6, 0, 0],\n",
       "       [7, 3, 9, 8, 5, 8, 4, 3, 2, 6],\n",
       "       [8, 5, 9, 2, 8, 5, 4, 9, 5, 7],\n",
       "       [0, 1, 6, 1, 7, 6, 5, 3, 7, 4],\n",
       "       [0, 8, 7, 8, 0, 5, 6, 0, 2, 5],\n",
       "       [9, 0, 5, 4, 7, 0, 5, 4, 4, 5],\n",
       "       [5, 9, 8, 5, 8, 6, 5, 0, 5, 9],\n",
       "       [7, 6, 3, 4, 2, 5, 3, 7, 0, 5],\n",
       "       [1, 3, 9, 6, 8, 0, 1, 3, 0, 4],\n",
       "       [9, 1, 7, 8, 5, 0, 8, 8, 0, 1],\n",
       "       [1, 2, 8, 0, 7, 4, 5, 3, 4, 6],\n",
       "       [6, 4, 0, 8, 4, 6, 7, 4, 1, 3],\n",
       "       [6, 0, 7, 6, 6, 9, 2, 2, 3, 0],\n",
       "       [0, 4, 3, 2, 1, 6, 2, 0, 6, 4],\n",
       "       [5, 4, 3, 1, 6, 9, 3, 6, 2, 3],\n",
       "       [8, 6, 0, 0, 8, 7, 6, 1, 7, 3],\n",
       "       [9, 5, 3, 2, 5, 2, 8, 0, 4, 3],\n",
       "       [1, 8, 7, 8, 8, 8, 4, 8, 1, 5],\n",
       "       [3, 0, 7, 7, 4, 1, 5, 1, 1, 9],\n",
       "       [5, 6, 6, 2, 4, 6, 7, 6, 8, 4],\n",
       "       [7, 2, 7, 9, 3, 7, 2, 5, 3, 5],\n",
       "       [9, 8, 9, 8, 7, 6, 0, 1, 0, 9],\n",
       "       [3, 4, 9, 5, 1, 0, 1, 1, 0, 9],\n",
       "       [8, 3, 0, 6, 2, 8, 5, 3, 6, 5],\n",
       "       [3, 9, 1, 4, 9, 3, 8, 8, 0, 5],\n",
       "       [7, 2, 5, 8, 1, 7, 3, 3, 1, 4],\n",
       "       [9, 1, 0, 2, 3, 0, 3, 1, 8, 7],\n",
       "       [9, 7, 9, 3, 1, 0, 9, 9, 0, 6],\n",
       "       [1, 0, 4, 5, 7, 8, 2, 8, 3, 5],\n",
       "       [8, 1, 2, 3, 4, 9, 0, 1, 0, 2],\n",
       "       [5, 6, 8, 2, 8, 5, 2, 9, 5, 9],\n",
       "       [5, 2, 5, 8, 8, 2, 7, 0, 8, 6],\n",
       "       [8, 6, 7, 8, 4, 6, 3, 9, 0, 8],\n",
       "       [6, 4, 2, 5, 8, 5, 4, 8, 3, 3],\n",
       "       [3, 8, 4, 2, 6, 6, 2, 1, 8, 2],\n",
       "       [3, 9, 6, 4, 2, 0, 5, 7, 5, 0],\n",
       "       [9, 9, 6, 8, 6, 6, 3, 8, 5, 0],\n",
       "       [9, 3, 2, 0, 7, 1, 1, 9, 9, 5],\n",
       "       [4, 3, 3, 2, 6, 9, 4, 8, 9, 4],\n",
       "       [0, 7, 6, 1, 1, 7, 8, 3, 3, 6],\n",
       "       [5, 7, 8, 9, 9, 9, 0, 8, 5, 0],\n",
       "       [5, 8, 4, 2, 8, 2, 3, 0, 5, 4],\n",
       "       [3, 3, 1, 1, 9, 4, 6, 6, 4, 4],\n",
       "       [6, 5, 1, 8, 5, 1, 3, 3, 1, 7],\n",
       "       [6, 6, 5, 4, 5, 9, 6, 3, 4, 9],\n",
       "       [4, 8, 9, 8, 2, 2, 4, 6, 5, 2],\n",
       "       [6, 7, 5, 9, 7, 2, 9, 3, 4, 1],\n",
       "       [7, 1, 2, 3, 8, 1, 7, 7, 5, 1],\n",
       "       [2, 7, 3, 3, 1, 7, 2, 9, 9, 3],\n",
       "       [7, 6, 8, 2, 5, 8, 8, 7, 9, 0],\n",
       "       [0, 3, 8, 2, 5, 6, 5, 7, 7, 7],\n",
       "       [3, 3, 4, 4, 9, 4, 0, 6, 3, 1],\n",
       "       [1, 9, 9, 8, 5, 9, 2, 7, 6, 4],\n",
       "       [7, 7, 0, 3, 4, 7, 7, 9, 0, 6],\n",
       "       [2, 5, 2, 1, 8, 3, 8, 1, 5, 1],\n",
       "       [8, 6, 5, 1, 3, 5, 9, 5, 2, 7],\n",
       "       [8, 1, 0, 9, 4, 6, 5, 3, 0, 0]])"
      ]
     },
     "execution_count": 60,
     "metadata": {},
     "output_type": "execute_result"
    }
   ],
   "source": [
    "# Prediction shape\n",
    "predictions.transpose()"
   ]
  },
  {
   "cell_type": "code",
   "execution_count": 61,
   "metadata": {},
   "outputs": [
    {
     "data": {
      "text/plain": [
       "array([7, 7, 3, 5, 5, 3, 8, 1, 1, 7])"
      ]
     },
     "execution_count": 61,
     "metadata": {},
     "output_type": "execute_result"
    }
   ],
   "source": [
    "# For the first image, the 10 prredictions from the 10 hospitals is\n",
    "image_label = predictions[:, 0]\n",
    "image_label"
   ]
  },
  {
   "cell_type": "code",
   "execution_count": 62,
   "metadata": {},
   "outputs": [
    {
     "data": {
      "text/plain": [
       "array([0, 2, 0, 2, 0, 2, 0, 3, 1, 0], dtype=int64)"
      ]
     },
     "execution_count": 62,
     "metadata": {},
     "output_type": "execute_result"
    }
   ],
   "source": [
    "# Count the number of labels so as to get the reliable prediction\n",
    "pred_label_count = np.bincount(image_label, minlength=num_classes)\n",
    "pred_label_count"
   ]
  },
  {
   "cell_type": "code",
   "execution_count": 63,
   "metadata": {},
   "outputs": [
    {
     "data": {
      "text/plain": [
       "7"
      ]
     },
     "execution_count": 63,
     "metadata": {},
     "output_type": "execute_result"
    }
   ],
   "source": [
    "predicted_label = np.argmax(pred_label_count)\n",
    "predicted_label"
   ]
  },
  {
   "cell_type": "code",
   "execution_count": 64,
   "metadata": {},
   "outputs": [
    {
     "data": {
      "text/plain": [
       "10.0"
      ]
     },
     "execution_count": 64,
     "metadata": {},
     "output_type": "execute_result"
    }
   ],
   "source": [
    "# Hyper parameters for noise \n",
    "epsilon = 0.1\n",
    "sensitivity = 1\n",
    "beta = sensitivity/epsilon\n",
    "beta"
   ]
  },
  {
   "cell_type": "code",
   "execution_count": 65,
   "metadata": {},
   "outputs": [
    {
     "data": {
      "text/plain": [
       "array([-11, -12,   0,   9, -17,  15, -29,   9,  23,   1], dtype=int64)"
      ]
     },
     "execution_count": 65,
     "metadata": {},
     "output_type": "execute_result"
    }
   ],
   "source": [
    "for i in range(len(pred_label_count)):\n",
    "    pred_label_count[i] += np.random.laplace(0, beta, 1)\n",
    "    \n",
    "new_labels = pred_label_count\n",
    "new_labels"
   ]
  },
  {
   "cell_type": "code",
   "execution_count": 66,
   "metadata": {},
   "outputs": [],
   "source": [
    "def predict_labels(predictions):\n",
    "    new_predictions = []\n",
    "    for img_data in predictions.transpose():\n",
    "\n",
    "        pred_label_count = np.bincount(img_data, minlength=num_classes)\n",
    "\n",
    "        pred_level_count_before = np.bincount(img_data, minlength=num_classes)\n",
    "        pred_before = np.argmax(pred_level_count_before)\n",
    "\n",
    "        epsilon = 0.1\n",
    "        sensitivity = 1\n",
    "        beta = sensitivity/epsilon\n",
    "\n",
    "        for i in range(len(pred_label_count)):\n",
    "            pred_label_count[i] += np.random.laplace(0, beta, 1)\n",
    "\n",
    "        pred =np.argmax(pred_label_count)\n",
    "\n",
    "        new_predictions.append(pred)\n",
    "    \n",
    "        # print(img_data, '->', pred_level_count_before,'->', pred_label_count, '--->',pred_before, '->', pred)\n",
    "\n",
    "        return pred_level_count_before, new_predictions"
   ]
  },
  {
   "cell_type": "code",
   "execution_count": 67,
   "metadata": {},
   "outputs": [],
   "source": [
    "teacher_pred, new_predictions = predict_labels(predictions)"
   ]
  },
  {
   "cell_type": "code",
   "execution_count": 68,
   "metadata": {},
   "outputs": [],
   "source": [
    "import syft"
   ]
  },
  {
   "cell_type": "code",
   "execution_count": 69,
   "metadata": {},
   "outputs": [],
   "source": [
    "from syft.frameworks.torch.differential_privacy import pate"
   ]
  },
  {
   "cell_type": "code",
   "execution_count": 70,
   "metadata": {},
   "outputs": [
    {
     "name": "stdout",
     "output_type": "stream",
     "text": [
      "(100, 100)\n",
      "(100,)\n"
     ]
    }
   ],
   "source": [
    "# help(pate)\n",
    "num_teachers, num_examples, num_labels = (100, 100, 10)\n",
    "preds = (np.random.rand(num_teachers, num_examples)*num_labels).astype(int)\n",
    "indices = (np.random.rand(num_examples)*num_labels).astype(int)\n",
    "\n",
    "print(preds.shape)\n",
    "print(indices.shape)"
   ]
  },
  {
   "cell_type": "code",
   "execution_count": 71,
   "metadata": {},
   "outputs": [
    {
     "name": "stdout",
     "output_type": "stream",
     "text": [
      "Data Dependent Epsilon:  11.756462732485105\n",
      "Data Independent Epsilon:  11.756462732485115\n"
     ]
    }
   ],
   "source": [
    "data_dep_eps, data_ind_eps = pate.perform_analysis(teacher_preds=preds, indices=indices, noise_eps=0.1, delta=1e-5)\n",
    "print('Data Dependent Epsilon: ',data_dep_eps)\n",
    "print('Data Independent Epsilon: ',data_ind_eps)"
   ]
  },
  {
   "cell_type": "code",
   "execution_count": 72,
   "metadata": {},
   "outputs": [
    {
     "name": "stdout",
     "output_type": "stream",
     "text": [
      "Data Dependent Epsilon:  7.788594079766298\n",
      "Data Independent Epsilon:  11.756462732485115\n"
     ]
    }
   ],
   "source": [
    "preds[:, 0:5] *= 0\n",
    "data_dep_eps, data_ind_eps = pate.perform_analysis(teacher_preds=preds, indices=indices, noise_eps=0.1, delta=1e-5)\n",
    "print('Data Dependent Epsilon: ',data_dep_eps)\n",
    "print('Data Independent Epsilon: ',data_ind_eps)"
   ]
  },
  {
   "cell_type": "code",
   "execution_count": 73,
   "metadata": {},
   "outputs": [
    {
     "name": "stdout",
     "output_type": "stream",
     "text": [
      "Data Dependent Epsilon:  0.9029013677789843\n",
      "Data Independent Epsilon:  11.756462732485115\n"
     ]
    }
   ],
   "source": [
    "preds[:, 0:50] *= 0\n",
    "data_dep_eps, data_ind_eps = pate.perform_analysis(teacher_preds=preds, indices=indices, noise_eps=0.1, delta=1e-5, moments=20)\n",
    "print('Data Dependent Epsilon: ',data_dep_eps)\n",
    "print('Data Independent Epsilon: ',data_ind_eps)"
   ]
  },
  {
   "cell_type": "code",
   "execution_count": null,
   "metadata": {},
   "outputs": [],
   "source": []
  }
 ],
 "metadata": {
  "kernelspec": {
   "display_name": "Python 3",
   "language": "python",
   "name": "python3"
  },
  "language_info": {
   "codemirror_mode": {
    "name": "ipython",
    "version": 3
   },
   "file_extension": ".py",
   "mimetype": "text/x-python",
   "name": "python",
   "nbconvert_exporter": "python",
   "pygments_lexer": "ipython3",
   "version": "3.6.4"
  }
 },
 "nbformat": 4,
 "nbformat_minor": 2
}
