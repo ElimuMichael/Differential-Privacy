{
 "cells": [
  {
   "cell_type": "markdown",
   "metadata": {},
   "source": [
    "## Generate a sample database\n",
    "Create a sample database that takes a number of records, randomly assigns a given attribute of concern and removes a record from each of the parallel databases generated from the original.\n",
    "With this parallel databases, we can then perform similarity checks"
   ]
  },
  {
   "cell_type": "code",
   "execution_count": 188,
   "metadata": {},
   "outputs": [],
   "source": [
    "# Import modules\n",
    "import torch"
   ]
  },
  {
   "cell_type": "code",
   "execution_count": 189,
   "metadata": {},
   "outputs": [],
   "source": [
    "# Create a parallel db generator which removes one record from the original db and keeps the rest of the records\n",
    "def par_db_generator(db, idx):\n",
    "    return torch.cat((db[0:idx], db[idx+1:]))"
   ]
  },
  {
   "cell_type": "code",
   "execution_count": 190,
   "metadata": {},
   "outputs": [],
   "source": [
    "# Backle up the parallel databases together\n",
    "# it depends entirely on the length of the first db\n",
    "def par_dbs(db):\n",
    "    \"\"\"This creates an array with the datase columns = len(db-1)\n",
    "    Since we are removing one record at a time and returning the remaining values\n",
    "    \"\"\"\n",
    "    db_all = []\n",
    "    \n",
    "    for i in range(len(db)):\n",
    "        par_db = par_db_generator(db, i)\n",
    "        db_all.append(par_db)\n",
    "        \n",
    "    return db_all"
   ]
  },
  {
   "cell_type": "code",
   "execution_count": 191,
   "metadata": {},
   "outputs": [],
   "source": [
    "# Create a function to generate the required data based on a given sample of users or records\n",
    "def generate_db(rec_no):\n",
    "    \"\"\"This function generates the db that is then usd to generate the parallel dbs\"\"\"\n",
    "    db = torch.rand(rec_no)>0.5\n",
    "    # print('Original DB\\n{}'.format(db))\n",
    "    \n",
    "    #Generate the entire parallel db\n",
    "    pdbs = par_dbs(db)\n",
    "    \n",
    "    return db, pdbs    "
   ]
  },
  {
   "cell_type": "code",
   "execution_count": 192,
   "metadata": {},
   "outputs": [],
   "source": [
    "# torch.manual_seed(500)\n",
    "# db, pdbs = generate_db(50000)\n",
    "# db"
   ]
  },
  {
   "cell_type": "code",
   "execution_count": 193,
   "metadata": {},
   "outputs": [],
   "source": [
    "# Query the databases (for this case, the sum)\n",
    "def query_threshold(db, threshold):\n",
    "    return (db.sum()>threshold).float()"
   ]
  },
  {
   "cell_type": "code",
   "execution_count": 194,
   "metadata": {},
   "outputs": [],
   "source": [
    "def db_query(db):\n",
    "    return db.float().mean()"
   ]
  },
  {
   "cell_type": "code",
   "execution_count": 195,
   "metadata": {},
   "outputs": [],
   "source": [
    "# db_result = db_query(db)"
   ]
  },
  {
   "cell_type": "code",
   "execution_count": 196,
   "metadata": {},
   "outputs": [],
   "source": [
    "# db_result"
   ]
  },
  {
   "cell_type": "code",
   "execution_count": 197,
   "metadata": {},
   "outputs": [],
   "source": [
    "# Query all the other paraleel DBs and compare with the full database query\n",
    "def sensitivity(query, num_entries=1000):\n",
    "    \"\"\"\n",
    "    This function takes the query function as an argument and the number of entries\n",
    "    It initializes the databse and the parallel databases and then performs query for both\n",
    "    It then uses the qery result to eveluate the similarity\n",
    "    \"\"\"\n",
    "    \n",
    "    # Generate the data\n",
    "#     torch.manual_seed(500)\n",
    "    sensitivity_rs = []\n",
    "    db, pdbs = generate_db(num_entries)\n",
    "    \n",
    "    \n",
    "    ful_db_threshold = query_threshold(db, 5)\n",
    "    print(ful_db_threshold)\n",
    "\n",
    "    max_dist = 0\n",
    "    for ii, pdb in enumerate(pdbs):\n",
    "        pdb_threshold = query_threshold(pdb, 5)\n",
    "        print('pdb',ii+1, pdb_threshold)\n",
    "        \n",
    "        if ful_db_threshold and pdb_threshold:\n",
    "            ful_db_query = query(db)\n",
    "            \n",
    "            pdb_query = query(pdb)\n",
    "\n",
    "            # Creating an L1 Sensitivity\n",
    "\n",
    "            db_distance = torch.abs(pdb_query - ful_db_query)\n",
    "\n",
    "            if db_distance > max_dist:\n",
    "                max_dist = db_distance\n",
    "    return max_dist"
   ]
  },
  {
   "cell_type": "code",
   "execution_count": 198,
   "metadata": {},
   "outputs": [
    {
     "name": "stdout",
     "output_type": "stream",
     "text": [
      "tensor(0.)\n",
      "pdb 1 tensor(0.)\n",
      "pdb 2 tensor(0.)\n",
      "pdb 3 tensor(0.)\n",
      "pdb 4 tensor(0.)\n",
      "pdb 5 tensor(0.)\n",
      "pdb 6 tensor(0.)\n",
      "pdb 7 tensor(0.)\n",
      "pdb 8 tensor(0.)\n",
      "pdb 9 tensor(0.)\n",
      "pdb 10 tensor(0.)\n",
      "0\n"
     ]
    }
   ],
   "source": [
    "print(sensitivity(db_query, 10))"
   ]
  },
  {
   "cell_type": "code",
   "execution_count": 199,
   "metadata": {},
   "outputs": [
    {
     "name": "stdout",
     "output_type": "stream",
     "text": [
      "tensor(0.)\n",
      "pdb 1 tensor(0.)\n",
      "pdb 2 tensor(0.)\n",
      "pdb 3 tensor(0.)\n",
      "pdb 4 tensor(0.)\n",
      "pdb 5 tensor(0.)\n",
      "pdb 6 tensor(0.)\n",
      "pdb 7 tensor(0.)\n",
      "pdb 8 tensor(0.)\n",
      "pdb 9 tensor(0.)\n",
      "pdb 10 tensor(0.)\n",
      "0\n",
      "tensor(1.)\n",
      "pdb 1 tensor(1.)\n",
      "pdb 2 tensor(0.)\n",
      "pdb 3 tensor(0.)\n",
      "pdb 4 tensor(0.)\n",
      "pdb 5 tensor(0.)\n",
      "pdb 6 tensor(0.)\n",
      "pdb 7 tensor(1.)\n",
      "pdb 8 tensor(1.)\n",
      "pdb 9 tensor(0.)\n",
      "pdb 10 tensor(1.)\n",
      "tensor(0.0667)\n",
      "tensor(1.)\n",
      "pdb 1 tensor(0.)\n",
      "pdb 2 tensor(1.)\n",
      "pdb 3 tensor(0.)\n",
      "pdb 4 tensor(1.)\n",
      "pdb 5 tensor(0.)\n",
      "pdb 6 tensor(0.)\n",
      "pdb 7 tensor(0.)\n",
      "pdb 8 tensor(0.)\n",
      "pdb 9 tensor(1.)\n",
      "pdb 10 tensor(1.)\n",
      "tensor(0.0667)\n",
      "tensor(1.)\n",
      "pdb 1 tensor(1.)\n",
      "pdb 2 tensor(1.)\n",
      "pdb 3 tensor(1.)\n",
      "pdb 4 tensor(1.)\n",
      "pdb 5 tensor(1.)\n",
      "pdb 6 tensor(1.)\n",
      "pdb 7 tensor(1.)\n",
      "pdb 8 tensor(1.)\n",
      "pdb 9 tensor(1.)\n",
      "pdb 10 tensor(1.)\n",
      "tensor(0.0889)\n",
      "tensor(1.)\n",
      "pdb 1 tensor(1.)\n",
      "pdb 2 tensor(1.)\n",
      "pdb 3 tensor(0.)\n",
      "pdb 4 tensor(0.)\n",
      "pdb 5 tensor(0.)\n",
      "pdb 6 tensor(1.)\n",
      "pdb 7 tensor(0.)\n",
      "pdb 8 tensor(0.)\n",
      "pdb 9 tensor(1.)\n",
      "pdb 10 tensor(0.)\n",
      "tensor(0.0667)\n",
      "tensor(1.)\n",
      "pdb 1 tensor(1.)\n",
      "pdb 2 tensor(1.)\n",
      "pdb 3 tensor(1.)\n",
      "pdb 4 tensor(1.)\n",
      "pdb 5 tensor(1.)\n",
      "pdb 6 tensor(1.)\n",
      "pdb 7 tensor(1.)\n",
      "pdb 8 tensor(1.)\n",
      "pdb 9 tensor(1.)\n",
      "pdb 10 tensor(1.)\n",
      "tensor(0.0778)\n",
      "tensor(1.)\n",
      "pdb 1 tensor(1.)\n",
      "pdb 2 tensor(1.)\n",
      "pdb 3 tensor(1.)\n",
      "pdb 4 tensor(1.)\n",
      "pdb 5 tensor(1.)\n",
      "pdb 6 tensor(1.)\n",
      "pdb 7 tensor(1.)\n",
      "pdb 8 tensor(1.)\n",
      "pdb 9 tensor(1.)\n",
      "pdb 10 tensor(1.)\n",
      "tensor(0.0778)\n",
      "tensor(1.)\n",
      "pdb 1 tensor(0.)\n",
      "pdb 2 tensor(0.)\n",
      "pdb 3 tensor(1.)\n",
      "pdb 4 tensor(0.)\n",
      "pdb 5 tensor(0.)\n",
      "pdb 6 tensor(1.)\n",
      "pdb 7 tensor(1.)\n",
      "pdb 8 tensor(1.)\n",
      "pdb 9 tensor(0.)\n",
      "pdb 10 tensor(0.)\n",
      "tensor(0.0667)\n",
      "tensor(1.)\n",
      "pdb 1 tensor(1.)\n",
      "pdb 2 tensor(1.)\n",
      "pdb 3 tensor(1.)\n",
      "pdb 4 tensor(1.)\n",
      "pdb 5 tensor(1.)\n",
      "pdb 6 tensor(1.)\n",
      "pdb 7 tensor(1.)\n",
      "pdb 8 tensor(1.)\n",
      "pdb 9 tensor(1.)\n",
      "pdb 10 tensor(1.)\n",
      "tensor(0.0778)\n",
      "tensor(0.)\n",
      "pdb 1 tensor(0.)\n",
      "pdb 2 tensor(0.)\n",
      "pdb 3 tensor(0.)\n",
      "pdb 4 tensor(0.)\n",
      "pdb 5 tensor(0.)\n",
      "pdb 6 tensor(0.)\n",
      "pdb 7 tensor(0.)\n",
      "pdb 8 tensor(0.)\n",
      "pdb 9 tensor(0.)\n",
      "pdb 10 tensor(0.)\n",
      "0\n"
     ]
    }
   ],
   "source": [
    "# 10 databases of size 10\n",
    "for dd in range(10):\n",
    "    print(sensitivity(db_query, 10))"
   ]
  }
 ],
 "metadata": {
  "kernelspec": {
   "display_name": "Python 3",
   "language": "python",
   "name": "python3"
  },
  "language_info": {
   "codemirror_mode": {
    "name": "ipython",
    "version": 3
   },
   "file_extension": ".py",
   "mimetype": "text/x-python",
   "name": "python",
   "nbconvert_exporter": "python",
   "pygments_lexer": "ipython3",
   "version": "3.6.4"
  }
 },
 "nbformat": 4,
 "nbformat_minor": 2
}
