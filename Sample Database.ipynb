{
 "cells": [
  {
   "cell_type": "markdown",
   "metadata": {},
   "source": [
    "## Generate a sample database\n",
    "Create a sample database that takes a number of records, randomly assigns a given attribute of concern and removes a record from each of the parallel databases generated from the original.\n",
    "With this parallel databases, we can then perform similarity checks"
   ]
  },
  {
   "cell_type": "code",
   "execution_count": 16,
   "metadata": {},
   "outputs": [],
   "source": [
    "# Import modules\n",
    "import torch"
   ]
  },
  {
   "cell_type": "code",
   "execution_count": 17,
   "metadata": {},
   "outputs": [],
   "source": [
    "# Create a parallel db generator which removes one record from the original db and keeps the rest of the records\n",
    "def par_db_generator(db, idx):\n",
    "    return torch.cat((db[0:idx], db[idx+1:]))"
   ]
  },
  {
   "cell_type": "code",
   "execution_count": 18,
   "metadata": {},
   "outputs": [],
   "source": [
    "# Backle up the parallel databases together\n",
    "# it depends entirely on the length of the first db\n",
    "def par_dbs(db):\n",
    "    \"\"\"This creates an array with the datase columns = len(db-1)\n",
    "    Since we are removing one record at a time and returning the remaining values\n",
    "    \"\"\"\n",
    "    db_all = []\n",
    "    \n",
    "    for i in range(len(db)):\n",
    "        par_db = par_db_generator(db, i)\n",
    "        db_all.append(par_db)\n",
    "        \n",
    "    return db_all"
   ]
  },
  {
   "cell_type": "code",
   "execution_count": 19,
   "metadata": {},
   "outputs": [],
   "source": [
    "# Create a function to generate the required data based on a given sample of users or records\n",
    "def generate_db(rec_no):\n",
    "    \"\"\"This function generates the db that is then usd to generate the parallel dbs\"\"\"\n",
    "    db = torch.rand(rec_no)>0.5\n",
    "    print('Original DB\\n{}'.format(db))\n",
    "    \n",
    "    #Generate the entire parallel db\n",
    "    pdb = par_dbs(db)\n",
    "    \n",
    "    return pdb    "
   ]
  },
  {
   "cell_type": "code",
   "execution_count": 20,
   "metadata": {},
   "outputs": [
    {
     "name": "stdout",
     "output_type": "stream",
     "text": [
      "Original DB\n",
      "tensor([1, 0, 0, 0, 0, 1, 0, 1, 1, 0], dtype=torch.uint8)\n"
     ]
    },
    {
     "data": {
      "text/plain": [
       "[tensor([0, 0, 0, 0, 1, 0, 1, 1, 0], dtype=torch.uint8),\n",
       " tensor([1, 0, 0, 0, 1, 0, 1, 1, 0], dtype=torch.uint8),\n",
       " tensor([1, 0, 0, 0, 1, 0, 1, 1, 0], dtype=torch.uint8),\n",
       " tensor([1, 0, 0, 0, 1, 0, 1, 1, 0], dtype=torch.uint8),\n",
       " tensor([1, 0, 0, 0, 1, 0, 1, 1, 0], dtype=torch.uint8),\n",
       " tensor([1, 0, 0, 0, 0, 0, 1, 1, 0], dtype=torch.uint8),\n",
       " tensor([1, 0, 0, 0, 0, 1, 1, 1, 0], dtype=torch.uint8),\n",
       " tensor([1, 0, 0, 0, 0, 1, 0, 1, 0], dtype=torch.uint8),\n",
       " tensor([1, 0, 0, 0, 0, 1, 0, 1, 0], dtype=torch.uint8),\n",
       " tensor([1, 0, 0, 0, 0, 1, 0, 1, 1], dtype=torch.uint8)]"
      ]
     },
     "execution_count": 20,
     "metadata": {},
     "output_type": "execute_result"
    }
   ],
   "source": [
    "db = generate_db(10)\n",
    "db"
   ]
  },
  {
   "cell_type": "code",
   "execution_count": null,
   "metadata": {},
   "outputs": [],
   "source": []
  }
 ],
 "metadata": {
  "kernelspec": {
   "display_name": "Python 3",
   "language": "python",
   "name": "python3"
  },
  "language_info": {
   "codemirror_mode": {
    "name": "ipython",
    "version": 3
   },
   "file_extension": ".py",
   "mimetype": "text/x-python",
   "name": "python",
   "nbconvert_exporter": "python",
   "pygments_lexer": "ipython3",
   "version": "3.6.4"
  }
 },
 "nbformat": 4,
 "nbformat_minor": 2
}
